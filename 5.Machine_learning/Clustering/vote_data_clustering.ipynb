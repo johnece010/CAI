{
 "cells": [
  {
   "cell_type": "code",
   "execution_count": 31,
   "id": "1650694c",
   "metadata": {},
   "outputs": [],
   "source": [
    "import pandas as pd\n",
    "import numpy as np\n",
    "import matplotlib.pyplot as plt\n",
    "import seaborn as sns\n",
    "from sklearn.preprocessing import StandardScaler\n",
    "from sklearn.cluster import KMeans\n",
    "from sklearn.metrics import silhouette_score"
   ]
  },
  {
   "cell_type": "code",
   "execution_count": 32,
   "id": "89b63e1c",
   "metadata": {},
   "outputs": [
    {
     "name": "stdout",
     "output_type": "stream",
     "text": [
      "          State Name Constituency Type  No Of Seats  Electors - Male  \\\n",
      "0     Andhra Pradesh               GEN           20         16430935   \n",
      "1     Andhra Pradesh                SC            4          3152828   \n",
      "2     Andhra Pradesh                ST            1           756088   \n",
      "3     Andhra Pradesh             Total           25         20339851   \n",
      "4  Arunachal Pradesh               GEN            2           444078   \n",
      "\n",
      "   Electors - Female  Electors - Third Gender  Electors - Total  \\\n",
      "0           16993558                     2924          33427417   \n",
      "1            3264103                      386           6417317   \n",
      "2             800954                      111           1557153   \n",
      "3           21058615                     3421          41401887   \n",
      "4             454359                        5            898442   \n",
      "\n",
      "   Electors - NRIs  Electors - Service  Voters - Male  ...  \\\n",
      "0             6778               56146       13231440  ...   \n",
      "1             1126                9519        2643747  ...   \n",
      "2               23                2520         560845  ...   \n",
      "3             7927               68185       16436032  ...   \n",
      "4                0                5748         330163  ...   \n",
      "\n",
      "   Voters - Third Gender  Voters - Postal  Voters - Total  Voters - NRIs  \\\n",
      "0                   1337           412172        27269617            195   \n",
      "1                    151            75736         5423553              0   \n",
      "2                      0            22774         1165787              0   \n",
      "3                   1488           510682        33858957            195   \n",
      "4                      2            37390          728393              0   \n",
      "\n",
      "   Voters - Poll %  Rejected Votes (Postal)  Evm Rejected Votes  NOTA Votes  \\\n",
      "0            81.58                    33004               74712      296563   \n",
      "1            84.51                     5217               15058       55335   \n",
      "2            74.87                     1342                   0       50470   \n",
      "3            81.78                    39563               89770      402368   \n",
      "4            81.07                     3967                1179        7191   \n",
      "\n",
      "   Valid Votes Polled  Tendered Votes  \n",
      "0            26865338             170  \n",
      "1             5347943              75  \n",
      "2             1113975               2  \n",
      "3            33327256             247  \n",
      "4              716056             310  \n",
      "\n",
      "[5 rows x 21 columns]\n"
     ]
    }
   ],
   "source": [
    "df=pd.read_csv(\"data/Election_2024_Voters_Data.csv\")\n",
    "print(df.head())"
   ]
  },
  {
   "cell_type": "code",
   "execution_count": 33,
   "id": "aacec86c",
   "metadata": {},
   "outputs": [
    {
     "name": "stdout",
     "output_type": "stream",
     "text": [
      "Index(['State Name', 'Constituency Type', 'No Of Seats', 'Electors - Male',\n",
      "       'Electors - Female', 'Electors - Third Gender', 'Electors - Total',\n",
      "       'Electors - NRIs', 'Electors - Service', 'Voters - Male',\n",
      "       'Voters - Female', 'Voters - Third Gender', 'Voters - Postal',\n",
      "       'Voters - Total', 'Voters - NRIs', 'Voters - Poll %',\n",
      "       'Rejected Votes (Postal)', 'Evm Rejected Votes', 'NOTA Votes',\n",
      "       'Valid Votes Polled', 'Tendered Votes'],\n",
      "      dtype='object')\n"
     ]
    }
   ],
   "source": [
    "print(df.columns)"
   ]
  },
  {
   "cell_type": "code",
   "execution_count": 34,
   "id": "7e25b3ad",
   "metadata": {},
   "outputs": [],
   "source": [
    "df[\"Gender_Ratio\"] = df[\"Voters - Female\"] / (df[\"Voters - Male\"] + 1)"
   ]
  },
  {
   "cell_type": "code",
   "execution_count": 35,
   "id": "f753642a",
   "metadata": {},
   "outputs": [
    {
     "name": "stdout",
     "output_type": "stream",
     "text": [
      "   Voters - Poll %  Gender_Ratio  NOTA Votes  Valid Votes Polled\n",
      "0            81.58      1.029719      296563            26865338\n",
      "1            84.51      1.022760       55335             5347943\n",
      "2            74.87      1.038018       50470             1113975\n",
      "3            81.78      1.028883      402368            33327256\n",
      "4            81.07      1.092905        7191              716056\n"
     ]
    }
   ],
   "source": [
    "features= df[[\"Voters - Poll %\",\"Gender_Ratio\",\"NOTA Votes\",\"Valid Votes Polled\"]]\n",
    "print(features.head())"
   ]
  },
  {
   "cell_type": "code",
   "execution_count": 36,
   "id": "5ae035e4",
   "metadata": {},
   "outputs": [
    {
     "name": "stdout",
     "output_type": "stream",
     "text": [
      "     Voters - Poll %  Gender_Ratio  NOTA Votes  Valid Votes Polled\n",
      "0              81.58      1.029719      296563            26865338\n",
      "1              84.51      1.022760       55335             5347943\n",
      "2              74.87      1.038018       50470             1113975\n",
      "3              81.78      1.028883      402368            33327256\n",
      "4              81.07      1.092905        7191              716056\n",
      "..               ...           ...         ...                 ...\n",
      "104            58.65      0.891911       34788             5116405\n",
      "105            58.65      0.891911       34788             5116405\n",
      "106            71.19      1.024780         912              134612\n",
      "107            71.19      1.024780         912              134612\n",
      "108            66.10      0.949607     6371839           638990692\n",
      "\n",
      "[109 rows x 4 columns]\n"
     ]
    }
   ],
   "source": [
    "features=features.fillna(0)\n",
    "print(features)\n"
   ]
  },
  {
   "cell_type": "code",
   "execution_count": 37,
   "id": "31aff474",
   "metadata": {},
   "outputs": [
    {
     "name": "stdout",
     "output_type": "stream",
     "text": [
      "[[ 1.38371312e+00  6.43297664e-01  1.95273748e-01  1.49722231e-01]\n",
      " [ 1.72078118e+00  5.56707684e-01 -1.93413408e-01 -1.97494866e-01]\n",
      " [ 6.11792735e-01  7.46548028e-01 -2.01252312e-01 -2.65816615e-01]\n",
      " [ 1.40672118e+00  6.32894369e-01  3.65755801e-01  2.53995466e-01]\n",
      " [ 1.32504257e+00  1.42947035e+00 -2.70987133e-01 -2.72237666e-01]\n",
      " [ 1.32504257e+00  1.42947035e+00 -2.70987133e-01 -2.72237666e-01]\n",
      " [ 1.44813568e+00  2.80981959e-01  3.55421918e-02 -1.19121626e-02]\n",
      " [ 1.12947407e+00  2.67162149e-01 -2.62110562e-01 -2.66417687e-01]\n",
      " [ 1.32044096e+00  4.75576152e-01 -2.33959794e-01 -2.53227229e-01]\n",
      " [ 1.41707480e+00  2.98818661e-01  1.04619609e-01  3.60276383e-02]\n",
      " [-1.51070072e+00  5.29575276e-01  8.87975013e-01  3.03087726e-01]\n",
      " [-1.62228981e+00  2.67078071e-01 -3.58465178e-03 -1.84071864e-01]\n",
      " [-1.52680636e+00  4.90873597e-01  1.16696425e+00  4.02808220e-01]\n",
      " [ 8.55678162e-01  1.27769953e+00 -2.64574217e-01 -2.69332065e-01]\n",
      " [ 8.55678162e-01  1.27769953e+00 -2.64574217e-01 -2.69332065e-01]\n",
      " [-1.11036049e+00 -1.87118728e+00  2.31590510e-01  6.55411306e-02]\n",
      " [-1.53370878e+00 -1.97130178e+00 -2.29805900e-01 -2.51050373e-01]\n",
      " [-2.97025600e-01 -7.73997524e-01 -1.07736529e-01 -2.03460461e-01]\n",
      " [-1.01372664e+00 -1.69368226e+00  4.59195853e-01  1.78615013e-01]\n",
      " [-6.55951322e-01 -1.59210897e+00 -2.29454640e-01 -1.17242699e-01]\n",
      " [-1.14111530e-01 -1.51727041e+00 -2.65534543e-01 -2.40372396e-01]\n",
      " [-5.50114250e-01 -1.57663590e+00 -2.12415297e-01 -7.38227374e-02]\n",
      " [ 2.09151701e-01  1.14953289e+00 -2.54867834e-01 -2.34047391e-01]\n",
      " [ 2.47114998e-01 -7.92376327e-01 -2.73018964e-01 -2.68236134e-01]\n",
      " [ 2.18354924e-01  6.55478093e-01 -2.45312911e-01 -2.18491166e-01]\n",
      " [ 1.65436388e-01  1.35802346e-01 -1.26690789e-02  1.88009680e-01]\n",
      " [ 1.93046059e-01 -3.85405401e-02 -2.29248396e-01 -1.76235135e-01]\n",
      " [-4.16361437e-02  4.47829243e-02 -2.53991294e-01 -2.40678749e-01]\n",
      " [ 1.55082762e-01  9.91925779e-02  6.92390035e-02  3.38680512e-01]\n",
      " [ 3.04635146e-01  1.36759357e+00 -6.25689767e-02  5.96661577e-03]\n",
      " [ 1.21721076e-01  1.29620581e+00 -2.47260955e-01 -2.53692431e-01]\n",
      " [ 2.86228699e-01  1.36086236e+00 -2.72560457e-02  3.60665435e-02]\n",
      " [-4.71886849e-01 -1.42612916e+00  3.14201113e-01  1.03883541e-01]\n",
      " [-3.95960254e-01 -1.88484065e+00 -2.19595185e-01 -2.04626393e-01]\n",
      " [ 3.33395220e-01 -3.87228554e-01 -8.23765082e-02 -1.47020622e-01]\n",
      " [-2.92423988e-01 -1.26047785e+00  5.77377192e-01  3.19821243e-01]\n",
      " [-1.00797463e+00 -1.51292445e+00  2.51093509e-01  4.54317141e-01]\n",
      " [-8.74527884e-01 -1.52672226e+00 -2.47056322e-01 -1.88465918e-01]\n",
      " [-1.54375633e-01 -1.07188175e+00 -1.82140856e-01 -2.01258900e-01]\n",
      " [-9.23995211e-01 -1.47508505e+00  3.87044104e-01  6.32177040e-01]\n",
      " [ 1.26062000e+00  1.76344774e+00 -2.76455836e-01 -2.70994439e-01]\n",
      " [ 7.59044314e-01  8.83240953e-01 -2.70932349e-01 -2.71052370e-01]\n",
      " [ 1.00408014e+00  1.31615940e+00 -2.64814299e-01 -2.58254451e-01]\n",
      " [ 8.44174132e-01  1.32847956e+00 -2.55426950e-01 -2.56438940e-01]\n",
      " [ 8.44174132e-01  1.32847956e+00 -2.55426950e-01 -2.56438940e-01]\n",
      " [-1.43247332e+00  5.05258152e-01 -2.79523723e-01 -2.75894424e-01]\n",
      " [-1.43247332e+00  5.05258152e-01 -2.79523723e-01 -2.75894424e-01]\n",
      " [-1.34734350e+00  4.27237623e-01 -2.79921711e-01 -2.71542276e-01]\n",
      " [-1.34734350e+00  4.27237623e-01 -2.79921711e-01 -2.71542276e-01]\n",
      " [ 4.73744381e-01  1.48775174e-01 -1.60479444e-02 -3.78704444e-02]\n",
      " [ 5.96837497e-01  2.65302179e-01 -2.54943564e-01 -2.23639654e-01]\n",
      " [ 9.52312010e-01  8.08883210e-01 -5.23421482e-02 -1.89657298e-01]\n",
      " [ 6.01439109e-01  3.20256499e-01  2.41814116e-01  1.16417320e-01]\n",
      " [-6.92764217e-01 -1.23977917e+00 -2.12431410e-01 -1.29509128e-01]\n",
      " [-9.75763344e-01 -8.55771499e-01 -2.44505657e-01 -2.20816511e-01]\n",
      " [-7.77894036e-01 -1.12963240e+00 -1.74363181e-01 -6.65332809e-02]\n",
      " [-8.05503706e-01 -9.32632223e-01  2.54136517e-02  1.05306868e-01]\n",
      " [-1.50955032e+00 -1.84884617e+00 -2.20449166e-01 -2.09332674e-01]\n",
      " [-3.55696151e-01 -6.91472940e-02 -2.02389879e-01 -2.16693277e-01]\n",
      " [-8.60723048e-01 -9.60406374e-01  1.67722379e-01  2.46865633e-01]\n",
      " [ 1.57698082e+00  2.24042506e-01 -2.78502168e-01 -2.77622280e-01]\n",
      " [ 1.57698082e+00  2.24042506e-01 -2.78502168e-01 -2.77622280e-01]\n",
      " [ 1.58840041e-02  7.96648402e-01  3.20554411e-01  2.85370022e-01]\n",
      " [ 3.04635146e-01  6.92668903e-01 -1.33122331e-01 -1.55741990e-01]\n",
      " [ 6.76521371e-02  7.77423646e-01  4.70005967e-01  4.13420391e-01]\n",
      " [ 1.49300140e+00  9.80824594e-02 -2.59029784e-01 -2.64505970e-01]\n",
      " [ 1.32389217e+00  2.64016925e-03 -2.53082529e-01 -2.65783261e-01]\n",
      " [ 1.41132279e+00  5.17232237e-02 -2.29538427e-01 -2.46496873e-01]\n",
      " [-1.43822533e+00 -1.12621517e+00  4.92758928e-01  8.27271109e-01]\n",
      " [-1.47158702e+00 -1.16704026e+00 -3.17515320e-02  1.34604743e-02]\n",
      " [-1.44512775e+00 -1.13485301e+00  7.43581282e-01  1.12452394e+00]\n",
      " [ 1.00638095e+00  1.86866685e-01  2.79355455e-01  3.92493930e-01]\n",
      " [ 1.51715986e+00  1.46279351e-03 -5.86213275e-02 -3.89428328e-02]\n",
      " [ 1.41937561e+00  3.87990961e-01 -2.22605066e-01 -2.37399474e-01]\n",
      " [ 1.15018132e+00  1.49233126e-01  5.63276834e-01  6.83736339e-01]\n",
      " [ 2.70123057e-01  1.15278974e-01 -2.30983750e-01 -1.47347178e-01]\n",
      " [-2.04993363e-01  2.45951451e-01 -2.74296713e-01 -2.61409264e-01]\n",
      " [ 7.78601164e-01  5.97031925e-01 -1.23749484e-01 -2.01778401e-01]\n",
      " [ 3.89764965e-01  2.90957414e-01 -6.38821743e-02 -4.29501258e-02]\n",
      " [-4.58082014e-01  6.25174101e-01 -1.35784174e-01 -1.15223788e-01]\n",
      " [-8.77979093e-01  6.25376681e-01 -2.43350366e-01 -2.61743421e-01]\n",
      " [ 1.43578732e-01  1.05905273e+00 -1.53625938e-01 -1.99337437e-01]\n",
      " [-3.20033659e-01  7.57371009e-01  3.23872950e-02 -8.71992821e-03]\n",
      " [-1.17823426e+00 -3.36301511e-01 -2.24419373e-01 -2.17115717e-01]\n",
      " [-2.32633641e+00  2.02935297e+00 -2.55151420e-01 -2.73279734e-01]\n",
      " [-1.36459954e+00 -3.77169425e-02 -1.96996907e-01 -2.06603092e-01]\n",
      " [-5.59317474e-01  2.23049927e-01 -1.74263281e-01 -2.53762802e-02]\n",
      " [-7.12405500e-03  1.75880781e-01 -2.52489576e-01 -2.26284939e-01]\n",
      " [ 4.76045187e-01  7.05884234e-01 -2.53001965e-01 -2.46258197e-01]\n",
      " [-3.74102598e-01  2.65869350e-01 -1.14607050e-01  6.96653007e-02]\n",
      " [-6.20288831e-01 -8.14888751e-01 -2.79659071e-01 -2.80553667e-01]\n",
      " [-6.20288831e-01 -8.14888751e-01 -2.79659071e-01 -2.80553667e-01]\n",
      " [-1.75082887e-01 -8.15738784e-01 -2.77881823e-01 -2.76589588e-01]\n",
      " [-1.75082887e-01 -8.15738784e-01 -2.77881823e-01 -2.76589588e-01]\n",
      " [-7.61482324e-02  1.02928155e+00 -2.80998049e-01 -2.82316959e-01]\n",
      " [ 3.56403279e-01 -5.79279628e-01 -2.74274155e-01 -2.80557991e-01]\n",
      " [ 2.17204521e-01 -1.02331869e-01 -2.72698318e-01 -2.79082592e-01]\n",
      " [-1.22079917e+00 -1.70678441e+00 -2.24079392e-01 -1.64147081e-01]\n",
      " [-1.32778665e+00 -1.76860406e+00 -2.68098098e-01 -2.59938899e-01]\n",
      " [-1.23920562e+00 -1.71710383e+00 -2.09603604e-01 -1.40293622e-01]\n",
      " [ 1.77485012e+00  3.22233833e-01 -2.82359585e-01 -2.83000585e-01]\n",
      " [ 1.77485012e+00  3.22233833e-01 -2.82359585e-01 -2.83000585e-01]\n",
      " [ 1.11451883e+00  1.97721096e+00 -2.66842907e-01 -2.70912514e-01]\n",
      " [ 1.11451883e+00  1.97721096e+00 -2.66842907e-01 -2.70912514e-01]\n",
      " [-1.25416086e+00 -1.07133626e+00 -2.26520490e-01 -2.01231096e-01]\n",
      " [-1.25416086e+00 -1.07133626e+00 -2.26520490e-01 -2.01231096e-01]\n",
      " [ 1.88444448e-01  5.81845888e-01 -2.81104394e-01 -2.81620181e-01]\n",
      " [ 1.88444448e-01  5.81845888e-01 -2.81104394e-01 -2.81620181e-01]\n",
      " [-3.97110657e-01 -3.53475490e-01  9.98427732e+00  1.00273300e+01]]\n"
     ]
    }
   ],
   "source": [
    "scalar=StandardScaler()\n",
    "scaled_features=scalar.fit_transform(features)\n",
    "print(scaled_features)"
   ]
  },
  {
   "cell_type": "code",
   "execution_count": 42,
   "id": "490bfa4a",
   "metadata": {},
   "outputs": [],
   "source": [
    "inertia=[]\n",
    "silhouette_scores=[]\n",
    "K=range(2,10)\n",
    "\n",
    "for k in K:\n",
    "    kMeans=KMeans(n_clusters=k,random_state=42)\n",
    "    kMeans.fit(scaled_features)\n",
    "    inertia.append(kMeans.inertia_)\n",
    "    silhouette_scores.append(silhouette_score(scaled_features,kMeans.labels_))"
   ]
  },
  {
   "cell_type": "code",
   "execution_count": 45,
   "id": "f454c645",
   "metadata": {},
   "outputs": [
    {
     "data": {
      "image/png": "[encoded data removed]",
      "text/plain": [
       "<Figure size 640x480 with 1 Axes>"
      ]
     },
     "metadata": {},
     "output_type": "display_data"
    }
   ],
   "source": [
    "plt.plot(K,inertia,'bx-')\n",
    "plt.xlabel('k')\n",
    "plt.ylabel(\"Inertia (Within Cluster Sum of Squares)\")\n",
    "plt.title(\"Elbow Method for Optimal k\")\n",
    "plt.show()"
   ]
  },
  {
   "cell_type": "code",
   "execution_count": 46,
   "id": "98ce513d",
   "metadata": {},
   "outputs": [
    {
     "data": {
      "image/png": "[encoded data removed]",
      "text/plain": [
       "<Figure size 640x480 with 1 Axes>"
      ]
     },
     "metadata": {},
     "output_type": "display_data"
    }
   ],
   "source": [
    "plt.plot(K, silhouette_scores, 'ro-')\n",
    "plt.xlabel(\"k\")\n",
    "plt.ylabel(\"Silhouette Score\")\n",
    "plt.title(\"Silhouette Analysis\")\n",
    "plt.show()"
   ]
  },
  {
   "cell_type": "code",
   "execution_count": null,
   "id": "0f0879fc",
   "metadata": {},
   "outputs": [],
   "source": []
  }
 ],
 "metadata": {
  "kernelspec": {
   "display_name": "Python 3",
   "language": "python",
   "name": "python3"
  },
  "language_info": {
   "codemirror_mode": {
    "name": "ipython",
    "version": 3
   },
   "file_extension": ".py",
   "mimetype": "text/x-python",
   "name": "python",
   "nbconvert_exporter": "python",
   "pygments_lexer": "ipython3",
   "version": "3.13.5"
  }
 },
 "nbformat": 4,
 "nbformat_minor": 5
}
