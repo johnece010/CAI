{
 "cells": [
  {
   "cell_type": "code",
   "execution_count": 1,
   "id": "69334ce7",
   "metadata": {},
   "outputs": [
    {
     "name": "stdout",
     "output_type": "stream",
     "text": [
      "Requirement already satisfied: torch in c:\\users\\johnson\\.conda\\envs\\ds\\lib\\site-packages (2.8.0)\n",
      "Requirement already satisfied: torchvision in c:\\users\\johnson\\.conda\\envs\\ds\\lib\\site-packages (0.23.0)\n",
      "Requirement already satisfied: matplotlib in c:\\users\\johnson\\.conda\\envs\\ds\\lib\\site-packages (3.10.6)\n",
      "Requirement already satisfied: filelock in c:\\users\\johnson\\.conda\\envs\\ds\\lib\\site-packages (from torch) (3.19.1)\n",
      "Requirement already satisfied: typing-extensions>=4.10.0 in c:\\users\\johnson\\appdata\\roaming\\python\\python313\\site-packages (from torch) (4.15.0)\n",
      "Requirement already satisfied: sympy>=1.13.3 in c:\\users\\johnson\\.conda\\envs\\ds\\lib\\site-packages (from torch) (1.14.0)\n",
      "Requirement already satisfied: networkx in c:\\users\\johnson\\.conda\\envs\\ds\\lib\\site-packages (from torch) (3.5)\n",
      "Requirement already satisfied: jinja2 in c:\\users\\johnson\\.conda\\envs\\ds\\lib\\site-packages (from torch) (3.1.6)\n",
      "Requirement already satisfied: fsspec in c:\\users\\johnson\\.conda\\envs\\ds\\lib\\site-packages (from torch) (2025.9.0)\n",
      "Requirement already satisfied: setuptools in c:\\users\\johnson\\appdata\\roaming\\python\\python313\\site-packages (from torch) (80.9.0)\n",
      "Requirement already satisfied: numpy in c:\\users\\johnson\\appdata\\roaming\\python\\python313\\site-packages (from torchvision) (2.2.6)\n",
      "Requirement already satisfied: pillow!=8.3.*,>=5.3.0 in c:\\users\\johnson\\appdata\\roaming\\python\\python313\\site-packages (from torchvision) (11.3.0)\n",
      "Requirement already satisfied: contourpy>=1.0.1 in c:\\users\\johnson\\.conda\\envs\\ds\\lib\\site-packages (from matplotlib) (1.3.3)\n",
      "Requirement already satisfied: cycler>=0.10 in c:\\users\\johnson\\.conda\\envs\\ds\\lib\\site-packages (from matplotlib) (0.12.1)\n",
      "Requirement already satisfied: fonttools>=4.22.0 in c:\\users\\johnson\\.conda\\envs\\ds\\lib\\site-packages (from matplotlib) (4.59.2)\n",
      "Requirement already satisfied: kiwisolver>=1.3.1 in c:\\users\\johnson\\.conda\\envs\\ds\\lib\\site-packages (from matplotlib) (1.4.9)\n",
      "Requirement already satisfied: packaging>=20.0 in c:\\users\\johnson\\appdata\\roaming\\python\\python313\\site-packages (from matplotlib) (25.0)\n",
      "Requirement already satisfied: pyparsing>=2.3.1 in c:\\users\\johnson\\.conda\\envs\\ds\\lib\\site-packages (from matplotlib) (3.2.3)\n",
      "Requirement already satisfied: python-dateutil>=2.7 in c:\\users\\johnson\\appdata\\roaming\\python\\python313\\site-packages (from matplotlib) (2.9.0.post0)\n",
      "Requirement already satisfied: six>=1.5 in c:\\users\\johnson\\appdata\\roaming\\python\\python313\\site-packages (from python-dateutil>=2.7->matplotlib) (1.17.0)\n",
      "Requirement already satisfied: mpmath<1.4,>=1.1.0 in c:\\users\\johnson\\.conda\\envs\\ds\\lib\\site-packages (from sympy>=1.13.3->torch) (1.3.0)\n",
      "Requirement already satisfied: MarkupSafe>=2.0 in c:\\users\\johnson\\appdata\\roaming\\python\\python313\\site-packages (from jinja2->torch) (3.0.3)\n",
      "Note: you may need to restart the kernel to use updated packages.\n"
     ]
    }
   ],
   "source": [
    "%pip install torch torchvision matplotlib"
   ]
  },
  {
   "cell_type": "markdown",
   "id": "49f3bd6c",
   "metadata": {},
   "source": [
    "<span style= \"color:red; font-size:25px;\">1.Import Libraries and Setup</span>"
   ]
  },
  {
   "cell_type": "code",
   "execution_count": 3,
   "id": "f39f7573",
   "metadata": {},
   "outputs": [],
   "source": [
    "import os\n",
    "os.environ[\"KMP_DUPLICATE_LIB_OK\"] = \"True\"\n",
    "\n",
    "import torch\n",
    "import torch.nn as nn \n",
    "import torch.optim as optim\n",
    "from torchvision import datasets, transforms\n",
    "from torch.utils.data import dataloader\n",
    "from torchvision.utils import save_image\n",
    "import matplotlib.pyplot as plt"
   ]
  },
  {
   "cell_type": "code",
   "execution_count": 6,
   "id": "be99ef21",
   "metadata": {},
   "outputs": [
    {
     "name": "stdout",
     "output_type": "stream",
     "text": [
      "Using Device: cpu\n"
     ]
    }
   ],
   "source": [
    "device = torch.device(\"cuda\" if torch.cuda.is_available() else \"cpu\")\n",
    "print(\"Using Device:\" , device)\n",
    "\n",
    "os.makedirs(\"Generatrd_image\" , exist_ok=True)"
   ]
  },
  {
   "cell_type": "markdown",
   "id": "d7e044cc",
   "metadata": {},
   "source": [
    "<span style= \"color:red; font-size:25px\">2.Hyperparameters Configuration</span>"
   ]
  },
  {
   "cell_type": "code",
   "execution_count": 7,
   "id": "b194d019",
   "metadata": {},
   "outputs": [
    {
     "name": "stdout",
     "output_type": "stream",
     "text": [
      "laqtent_dim=100, img_size=28, lr=0.0002, device=cpu\n"
     ]
    }
   ],
   "source": [
    "latent_dim = 100\n",
    "img_size = 28\n",
    "channels = 1\n",
    "batch_size = 128\n",
    "epochs = 50\n",
    "lr = 0.0002\n",
    "beta1, beta2 = 0.5, 0.999\n",
    "\n",
    "print(f\"laqtent_dim={latent_dim}, img_size={img_size}, lr={lr}, device={device}\")"
   ]
  },
  {
   "cell_type": "markdown",
   "id": "2563d809",
   "metadata": {},
   "source": [
    "<span style= \"color:red; font-size:25px\">3.Load and Prepare MNIST Dataset</span>"
   ]
  },
  {
   "cell_type": "code",
   "execution_count": null,
   "id": "59707553",
   "metadata": {},
   "outputs": [],
   "source": [
    "transforms = transforms.Compose([\n",
    "    transforms.ToTensor(),\n",
    "    transforms.Normalize([0.5], [0.5])\n",
    "])\n",
    "\n"
   ]
  }
 ],
 "metadata": {
  "kernelspec": {
   "display_name": "Python 3",
   "language": "python",
   "name": "python3"
  },
  "language_info": {
   "codemirror_mode": {
    "name": "ipython",
    "version": 3
   },
   "file_extension": ".py",
   "mimetype": "text/x-python",
   "name": "python",
   "nbconvert_exporter": "python",
   "pygments_lexer": "ipython3",
   "version": "3.13.5"
  }
 },
 "nbformat": 4,
 "nbformat_minor": 5
}
