{
 "cells": [
  {
   "cell_type": "code",
   "execution_count": 1,
   "id": "f3d3a8b9",
   "metadata": {},
   "outputs": [
    {
     "name": "stdout",
     "output_type": "stream",
     "text": [
      "Employee_ID: E001 Name: Alice Dept: HR Salary: 50000 YOE: 5 P.Rating: 4.2\n",
      "Employee_ID: E002 Name: Bob Dept: Finance Salary: 60000 YOE: 6 P.Rating: 4.0\n",
      "Employee_ID: E003 Name: Charlie Dept: IT Salary: 70000 YOE: 8 P.Rating: 4.5\n",
      "Employee_ID: E004 Name: David Dept: Marketing Salary: 55000 YOE: 4 P.Rating: 3.9\n",
      "Employee_ID: E005 Name: Eve Dept: Finance Salary: 65000 YOE: 7 P.Rating: 4.3\n",
      "Employee_ID: E006 Name: Frank Dept: IT Salary: 75000 YOE: 9 P.Rating: 4.6\n",
      "Employee_ID: E007 Name: Grace Dept: HR Salary: 48000 YOE: 3 P.Rating: 3.8\n",
      "Employee_ID: E008 Name: Hank Dept: Marketing Salary: 52000 YOE: 5 P.Rating: 4.1\n",
      "Employee_ID: E009 Name: Ivy Dept: IT Salary: 72000 YOE: 6 P.Rating: 4.4\n",
      "Employee_ID: E010 Name: Jack Dept: Finance Salary: 67000 YOE: 7 P.Rating: 4.2\n"
     ]
    }
   ],
   "source": [
    "import numpy as np\n",
    "\n",
    "# Dataset: Employee ID, Name, Department, Salary, Years of Experience, Performance Rating\n",
    "employees = np.array([\n",
    "    ['E001', 'Alice', 'HR', '50000', '5', '4.2'],\n",
    "    ['E002', 'Bob', 'Finance', '60000', '6', '4.0'],\n",
    "    ['E003', 'Charlie', 'IT', '70000', '8', '4.5'],\n",
    "    ['E004', 'David', 'Marketing', '55000', '4', '3.9'],\n",
    "    ['E005', 'Eve', 'Finance', '65000', '7', '4.3'],\n",
    "    ['E006', 'Frank', 'IT', '75000', '9', '4.6'],\n",
    "    ['E007', 'Grace', 'HR', '48000', '3', '3.8'],\n",
    "    ['E008', 'Hank', 'Marketing', '52000', '5', '4.1'],\n",
    "    ['E009', 'Ivy', 'IT', '72000', '6', '4.4'],\n",
    "    ['E010', 'Jack', 'Finance', '67000', '7', '4.2']\n",
    "])\n",
    "\n",
    "for emp in employees:\n",
    "    \n",
    "    print(\"Employee_ID:\",emp[0],\"Name:\",emp[1],\"Dept:\",emp[2],\"Salary:\",emp[3],\"YOE:\",emp[4],\"P.Rating:\",emp[5])\n",
    "    "
   ]
  },
  {
   "cell_type": "code",
   "execution_count": 1,
   "id": "8a578919",
   "metadata": {},
   "outputs": [
    {
     "name": "stdout",
     "output_type": "stream",
     "text": [
      "Converted: [50000. 60000. 70000. 55000. 65000. 75000. 48000. 52000. 72000. 67000.]\n"
     ]
    }
   ],
   "source": [
    "#Extract the salaries of all employees and convert them to float\n",
    "import numpy as np\n",
    "\n",
    "# Dataset: Employee ID, Name, Department, Salary, Years of Experience, Performance Rating\n",
    "employees = np.array([\n",
    "    ['E001', 'Alice', 'HR', '50000', '5', '4.2'],\n",
    "    ['E002', 'Bob', 'Finance', '60000', '6', '4.0'],\n",
    "    ['E003', 'Charlie', 'IT', '70000', '8', '4.5'],\n",
    "    ['E004', 'David', 'Marketing', '55000', '4', '3.9'],\n",
    "    ['E005', 'Eve', 'Finance', '65000', '7', '4.3'],\n",
    "    ['E006', 'Frank', 'IT', '75000', '9', '4.6'],\n",
    "    ['E007', 'Grace', 'HR', '48000', '3', '3.8'],\n",
    "    ['E008', 'Hank', 'Marketing', '52000', '5', '4.1'],\n",
    "    ['E009', 'Ivy', 'IT', '72000', '6', '4.4'],\n",
    "    ['E010', 'Jack', 'Finance', '67000', '7', '4.2']\n",
    "])\n",
    "\n",
    "\n",
    "emp=employees[:,3].astype(float)\n",
    "print(\"Converted:\",emp)"
   ]
  },
  {
   "cell_type": "code",
   "execution_count": 20,
   "id": "975fc310",
   "metadata": {},
   "outputs": [
    {
     "name": "stdout",
     "output_type": "stream",
     "text": [
      "Employee_ID: ['E001' 'E002' 'E003' 'E004' 'E005' 'E006' 'E007' 'E008' 'E009' 'E010']\n"
     ]
    }
   ],
   "source": [
    "import numpy as np\n",
    "\n",
    "# Dataset: Employee ID, Name, Department, Salary, Years of Experience, Performance Rating\n",
    "employees = np.array([\n",
    "    ['E001', 'Alice', 'HR', '50000', '5', '4.2'],\n",
    "    ['E002', 'Bob', 'Finance', '60000', '6', '4.0'],\n",
    "    ['E003', 'Charlie', 'IT', '70000', '8', '4.5'],\n",
    "    ['E004', 'David', 'Marketing', '55000', '4', '3.9'],\n",
    "    ['E005', 'Eve', 'Finance', '65000', '7', '4.3'],\n",
    "    ['E006', 'Frank', 'IT', '75000', '9', '4.6'],\n",
    "    ['E007', 'Grace', 'HR', '48000', '3', '3.8'],\n",
    "    ['E008', 'Hank', 'Marketing', '52000', '5', '4.1'],\n",
    "    ['E009', 'Ivy', 'IT', '72000', '6', '4.4'],\n",
    "    ['E010', 'Jack', 'Finance', '67000', '7', '4.2']\n",
    "])\n",
    "\n",
    "emp=employees[:,0]\n",
    "print(\"Employee_ID:\",emp)"
   ]
  },
  {
   "cell_type": "code",
   "execution_count": 27,
   "id": "2db3de87",
   "metadata": {},
   "outputs": [
    {
     "name": "stdout",
     "output_type": "stream",
     "text": [
      "Students_Mark_List\n",
      "Name: Johnson\n",
      "Tamil: 80\n",
      "English: 75\n",
      "Maths: 79\n",
      "Science: 82\n",
      "Social_science: 95 \n",
      "\n",
      "Name: Jayaseelan\n",
      "Tamil: 82\n",
      "English: 80\n",
      "Maths: 79\n",
      "Science: 92\n",
      "Social_science: 90 \n",
      "\n",
      "Name: Kutty\n",
      "Tamil: 85\n",
      "English: 60\n",
      "Maths: 64\n",
      "Science: 87\n",
      "Social_science: 85 \n",
      "\n",
      "Name: Raj\n",
      "Tamil: 90\n",
      "English: 70\n",
      "Maths: 79\n",
      "Science: 84\n",
      "Social_science: 89 \n",
      "\n",
      "Name: Vijay\n",
      "Tamil: 78\n",
      "English: 76\n",
      "Maths: 69\n",
      "Science: 79\n",
      "Social_science: 90 \n",
      "\n",
      "Name: Jaipa\n",
      "Tamil: 88\n",
      "English: 90\n",
      "Maths: 87\n",
      "Science: 86\n",
      "Social_science: 91 \n",
      "\n",
      "Name: Ruban\n",
      "Tamil: 80\n",
      "English: 71\n",
      "Maths: 81\n",
      "Science: 73\n",
      "Social_science: 89 \n",
      "\n",
      "Name: Ebi\n",
      "Tamil: 75\n",
      "English: 73\n",
      "Maths: 68\n",
      "Science: 76\n",
      "Social_science: 91 \n",
      "\n",
      "Name: Joel\n",
      "Tamil: 67\n",
      "English: 76\n",
      "Maths: 72\n",
      "Science: 86\n",
      "Social_science: 74 \n",
      "\n",
      "Name: Dhiva\n",
      "Tamil: 80\n",
      "English: 75\n",
      "Maths: 67\n",
      "Science: 78\n",
      "Social_science: 81 \n",
      "\n"
     ]
    }
   ],
   "source": [
    "import numpy as np\n",
    "\n",
    "# Dataset:  Name,Tamil,English,Maths,Science,Social_science\n",
    "students = np.array([\n",
    "    ['Johnson', '80', '75', '79', '82', '95'],\n",
    "    ['Jayaseelan', '82', '80', '79', '92', '90'],\n",
    "    ['Kutty', '85', '60', '64', '87', '85'],\n",
    "    ['Raj', '90', '70', '79', '84', '89'],\n",
    "    ['Vijay', '78', '76', '69', '79', '90'],\n",
    "    ['Jaipa', '88', '90', '87', '86', '91'],\n",
    "    ['Ruban', '80', '71', '81', '73', '89'],\n",
    "    ['Ebi', '75', '73', '68', '76', '91'],\n",
    "    ['Joel', '67', '76', '72', '86', '74'],\n",
    "    ['Dhiva', '80', '75', '67', '78', '81']\n",
    "])\n",
    "\n",
    "print(\"Students_Mark_List\")\n",
    "\n",
    "for student in students:\n",
    "\n",
    "    print(\"Name:\",student[0])\n",
    "    \n",
    "    print(\"Tamil:\",student[1],)\n",
    "    \n",
    "    print(\"English:\",student[2],)\n",
    "    \n",
    "    print(\"Maths:\",student[3],)\n",
    "    \n",
    "    print(\"Science:\",student[4],)\n",
    "    \n",
    "    print(\"Social_science:\",student[5],'\\n')\n",
    "    "
   ]
  },
  {
   "cell_type": "code",
   "execution_count": 2,
   "id": "b01e67d0",
   "metadata": {},
   "outputs": [
    {
     "name": "stdout",
     "output_type": "stream",
     "text": [
      "Name: Johnson Total_Marks: 411 Average: 82.2 \n",
      " Name: Jayaseelan Total_Marks: 423 Average: 84.6 \n",
      " Name: Kutty Total_Marks: 381 Average: 76.2 \n",
      " Name: Raj Total_Marks: 412 Average: 82.4 \n",
      " Name: Vijay Total_Marks: 392 Average: 78.4 \n",
      " Name: Jaipa Total_Marks: 442 Average: 88.4 \n",
      " Name: Ruban Total_Marks: 394 Average: 78.8 \n",
      " Name: Ebi Total_Marks: 383 Average: 76.6 \n",
      " Name: Joel Total_Marks: 375 Average: 75.0 \n",
      " Name: Dhiva Total_Marks: 381 Average: 76.2\n"
     ]
    }
   ],
   "source": [
    "import numpy as np\n",
    "\n",
    "# Dataset:  Name,Tamil,English,Maths,Science,Social_science\n",
    "students = np.array([\n",
    "    ['Johnson', '80', '75', '79', '82', '95'],\n",
    "    ['Jayaseelan', '82', '80', '79', '92', '90'],\n",
    "    ['Kutty', '85', '60', '64', '87', '85'],\n",
    "    ['Raj', '90', '70', '79', '84', '89'],\n",
    "    ['Vijay', '78', '76', '69', '79', '90'],\n",
    "    ['Jaipa', '88', '90', '87', '86', '91'],\n",
    "    ['Ruban', '80', '71', '81', '73', '89'],\n",
    "    ['Ebi', '75', '73', '68', '76', '91'],\n",
    "    ['Joel', '67', '76', '72', '86', '74'],\n",
    "    ['Dhiva', '80', '75', '67', '78', '81']\n",
    "])\n",
    "\n",
    "names = students[:, 0]  \n",
    "marks = students[:, 1:].astype(int) \n",
    "\n",
    "totals = marks.sum(axis=1)\n",
    "\n",
    "Avg=marks.mean(axis=1)\n",
    "print(\"Name:\",names[0],\"Total_Marks:\",totals[0],\"Average:\",Avg[0],'\\n',\"Name:\",names[1],\"Total_Marks:\",totals[1],\"Average:\",Avg[1],'\\n',\n",
    "      \"Name:\",names[2],\"Total_Marks:\",totals[2],\"Average:\",Avg[2],'\\n',\"Name:\",names[3],\"Total_Marks:\",totals[3],\"Average:\",Avg[3],'\\n',\n",
    "      \"Name:\",names[4],\"Total_Marks:\",totals[4],\"Average:\",Avg[4],'\\n',\"Name:\",names[5],\"Total_Marks:\",totals[5],\"Average:\",Avg[5],'\\n',\n",
    "      \"Name:\",names[6],\"Total_Marks:\",totals[6],\"Average:\",Avg[6],'\\n',\"Name:\",names[7],\"Total_Marks:\",totals[7],\"Average:\",Avg[7],'\\n',\n",
    "      \"Name:\",names[8],\"Total_Marks:\",totals[8],\"Average:\",Avg[8],'\\n',\"Name:\",names[9],\"Total_Marks:\",totals[9],\"Average:\",Avg[9])\n"
   ]
  },
  {
   "cell_type": "code",
   "execution_count": 6,
   "id": "1350d716",
   "metadata": {},
   "outputs": [
    {
     "name": "stdout",
     "output_type": "stream",
     "text": [
      "Avg_salary: \n",
      " 61400.0\n"
     ]
    }
   ],
   "source": [
    "#Average of salary\n",
    "import numpy as np\n",
    "\n",
    "# Dataset: Employee ID, Name, Department, Salary, Years of Experience, Performance Rating\n",
    "employees = np.array([\n",
    "    ['E001', 'Alice', 'HR', '50000', '5', '4.2'],\n",
    "    ['E002', 'Bob', 'Finance', '60000', '6', '4.0'],\n",
    "    ['E003', 'Charlie', 'IT', '70000', '8', '4.5'],\n",
    "    ['E004', 'David', 'Marketing', '55000', '4', '3.9'],\n",
    "    ['E005', 'Eve', 'Finance', '65000', '7', '4.3'],\n",
    "    ['E006', 'Frank', 'IT', '75000', '9', '4.6'],\n",
    "    ['E007', 'Grace', 'HR', '48000', '3', '3.8'],\n",
    "    ['E008', 'Hank', 'Marketing', '52000', '5', '4.1'],\n",
    "    ['E009', 'Ivy', 'IT', '72000', '6', '4.4'],\n",
    "    ['E010', 'Jack', 'Finance', '67000', '7', '4.2']\n",
    "])\n",
    "\n",
    "salaries=employees[:,3].astype(float)\n",
    "print(\"Avg_salary:\",'\\n',np.mean(salaries))\n"
   ]
  },
  {
   "cell_type": "code",
   "execution_count": 10,
   "id": "cdd39f63",
   "metadata": {},
   "outputs": [
    {
     "name": "stdout",
     "output_type": "stream",
     "text": [
      "Highest_salary: \n",
      " 75000\n"
     ]
    }
   ],
   "source": [
    "#Highest salary\n",
    "\n",
    "import numpy as np\n",
    "\n",
    "# Dataset: Employee ID, Name, Department, Salary, Years of Experience, Performance Rating\n",
    "employees = np.array([\n",
    "    ['E001', 'Alice', 'HR', '50000', '5', '4.2'],\n",
    "    ['E002', 'Bob', 'Finance', '60000', '6', '4.0'],\n",
    "    ['E003', 'Charlie', 'IT', '70000', '8', '4.5'],\n",
    "    ['E004', 'David', 'Marketing', '55000', '4', '3.9'],\n",
    "    ['E005', 'Eve', 'Finance', '65000', '7', '4.3'],\n",
    "    ['E006', 'Frank', 'IT', '75000', '9', '4.6'],\n",
    "    ['E007', 'Grace', 'HR', '48000', '3', '3.8'],\n",
    "    ['E008', 'Hank', 'Marketing', '52000', '5', '4.1'],\n",
    "    ['E009', 'Ivy', 'IT', '72000', '6', '4.4'],\n",
    "    ['E010', 'Jack', 'Finance', '67000', '7', '4.2']\n",
    "])\n",
    "\n",
    "Highest_salary=employees[:,3].astype(int)\n",
    "print(\"Highest_salary:\",'\\n',np.max(Highest_salary))"
   ]
  },
  {
   "cell_type": "code",
   "execution_count": 12,
   "id": "5d9e8926",
   "metadata": {},
   "outputs": [
    {
     "name": "stdout",
     "output_type": "stream",
     "text": [
      "Total_year of experience: 60\n"
     ]
    }
   ],
   "source": [
    "#Calculate Total year of experience\n",
    "\n",
    "import numpy as np\n",
    "\n",
    "# Dataset: Employee ID, Name, Department, Salary, Years of Experience, Performance Rating\n",
    "employees = np.array([\n",
    "    ['E001', 'Alice', 'HR', '50000', '5', '4.2'],\n",
    "    ['E002', 'Bob', 'Finance', '60000', '6', '4.0'],\n",
    "    ['E003', 'Charlie', 'IT', '70000', '8', '4.5'],\n",
    "    ['E004', 'David', 'Marketing', '55000', '4', '3.9'],\n",
    "    ['E005', 'Eve', 'Finance', '65000', '7', '4.3'],\n",
    "    ['E006', 'Frank', 'IT', '75000', '9', '4.6'],\n",
    "    ['E007', 'Grace', 'HR', '48000', '3', '3.8'],\n",
    "    ['E008', 'Hank', 'Marketing', '52000', '5', '4.1'],\n",
    "    ['E009', 'Ivy', 'IT', '72000', '6', '4.4'],\n",
    "    ['E010', 'Jack', 'Finance', '67000', '7', '4.2']\n",
    "])\n",
    "\n",
    "Total_YOE=employees[:,4].astype(int)\n",
    "print(\"Total_year of experience:\",np.sum(Total_YOE))"
   ]
  },
  {
   "cell_type": "code",
   "execution_count": 19,
   "id": "1bbc7870",
   "metadata": {},
   "outputs": [
    {
     "name": "stdout",
     "output_type": "stream",
     "text": [
      "Lowest_performance_Rating: 6\n"
     ]
    }
   ],
   "source": [
    "#Find Lowest performance Rating\n",
    "\n",
    "import numpy as np\n",
    "\n",
    "# Dataset: Employee ID, Name, Department, Salary, Years of Experience, Performance Rating\n",
    "employees = np.array([\n",
    "    ['E001', 'Alice', 'HR', '50000', '5', '4.2'],\n",
    "    ['E002', 'Bob', 'Finance', '60000', '6', '4.0'],\n",
    "    ['E003', 'Charlie', 'IT', '70000', '8', '4.5'],\n",
    "    ['E004', 'David', 'Marketing', '55000', '4', '3.9'],\n",
    "    ['E005', 'Eve', 'Finance', '65000', '7', '4.3'],\n",
    "    ['E006', 'Frank', 'IT', '75000', '9', '4.6'],\n",
    "    ['E007', 'Grace', 'HR', '48000', '3', '3.8'],\n",
    "    ['E008', 'Hank', 'Marketing', '52000', '5', '4.1'],\n",
    "    ['E009', 'Ivy', 'IT', '72000', '6', '4.4'],\n",
    "    ['E010', 'Jack', 'Finance', '67000', '7', '4.2']\n",
    "])\n",
    "\n",
    "LPR=employees[:,5].astype(float)\n",
    "print(\"Lowest_performance_Rating:\",np.argmin(LPR))"
   ]
  },
  {
   "cell_type": "code",
   "execution_count": 21,
   "id": "c6304f2a",
   "metadata": {},
   "outputs": [
    {
     "name": "stdout",
     "output_type": "stream",
     "text": [
      "Avg_Rating; 4.2\n"
     ]
    }
   ],
   "source": [
    "#Calculate average performance Rating\n",
    "\n",
    "import numpy as np\n",
    "\n",
    "# Dataset: Employee ID, Name, Department, Salary, Years of Experience, Performance Rating\n",
    "employees = np.array([\n",
    "    ['E001', 'Alice', 'HR', '50000', '5', '4.2'],\n",
    "    ['E002', 'Bob', 'Finance', '60000', '6', '4.0'],\n",
    "    ['E003', 'Charlie', 'IT', '70000', '8', '4.5'],\n",
    "    ['E004', 'David', 'Marketing', '55000', '4', '3.9'],\n",
    "    ['E005', 'Eve', 'Finance', '65000', '7', '4.3'],\n",
    "    ['E006', 'Frank', 'IT', '75000', '9', '4.6'],\n",
    "    ['E007', 'Grace', 'HR', '48000', '3', '3.8'],\n",
    "    ['E008', 'Hank', 'Marketing', '52000', '5', '4.1'],\n",
    "    ['E009', 'Ivy', 'IT', '72000', '6', '4.4'],\n",
    "    ['E010', 'Jack', 'Finance', '67000', '7', '4.2']\n",
    "])\n",
    "\n",
    "Avg_Rating=employees[:,5].astype(float)\n",
    "print(\"Avg_Rating;\",np.mean(Avg_Rating))"
   ]
  },
  {
   "cell_type": "code",
   "execution_count": 25,
   "id": "c2a5ff11",
   "metadata": {},
   "outputs": [
    {
     "name": "stdout",
     "output_type": "stream",
     "text": [
      "Above_salaries; 5\n"
     ]
    }
   ],
   "source": [
    "#Count the number of employees with a salary above $60,000\n",
    "\n",
    "import numpy as np\n",
    "\n",
    "# Dataset: Employee ID, Name, Department, Salary, Years of Experience, Performance Rating\n",
    "employees = np.array([\n",
    "    ['E001', 'Alice', 'HR', '50000', '5', '4.2'],\n",
    "    ['E002', 'Bob', 'Finance', '60000', '6', '4.0'],\n",
    "    ['E003', 'Charlie', 'IT', '70000', '8', '4.5'],\n",
    "    ['E004', 'David', 'Marketing', '55000', '4', '3.9'],\n",
    "    ['E005', 'Eve', 'Finance', '65000', '7', '4.3'],\n",
    "    ['E006', 'Frank', 'IT', '75000', '9', '4.6'],\n",
    "    ['E007', 'Grace', 'HR', '48000', '3', '3.8'],\n",
    "    ['E008', 'Hank', 'Marketing', '52000', '5', '4.1'],\n",
    "    ['E009', 'Ivy', 'IT', '72000', '6', '4.4'],\n",
    "    ['E010', 'Jack', 'Finance', '67000', '7', '4.2']\n",
    "])\n",
    "\n",
    "Salary=employees[:,3].astype(int)\n",
    "print(\"Above_salaries;\",np.sum(Salary>60000))"
   ]
  },
  {
   "cell_type": "code",
   "execution_count": 46,
   "id": "939fe87c",
   "metadata": {},
   "outputs": [
    {
     "name": "stdout",
     "output_type": "stream",
     "text": [
      "['Charlie' 'Frank' 'Ivy']\n"
     ]
    }
   ],
   "source": [
    "#Extract the names of employees in the 'IT' department\n",
    "\n",
    "import numpy as np\n",
    "\n",
    "# Dataset: Employee ID, Name, Department, Salary, Years of Experience, Performance Rating\n",
    "employees = np.array([\n",
    "    ['E001', 'Alice', 'HR', '50000', '5', '4.2'],\n",
    "    ['E002', 'Bob', 'Finance', '60000', '6', '4.0'],\n",
    "    ['E003', 'Charlie', 'IT', '70000', '8', '4.5'],\n",
    "    ['E004', 'David', 'Marketing', '55000', '4', '3.9'],\n",
    "    ['E005', 'Eve', 'Finance', '65000', '7', '4.3'],\n",
    "    ['E006', 'Frank', 'IT', '75000', '9', '4.6'],\n",
    "    ['E007', 'Grace', 'HR', '48000', '3', '3.8'],\n",
    "    ['E008', 'Hank', 'Marketing', '52000', '5', '4.1'],\n",
    "    ['E009', 'Ivy', 'IT', '72000', '6', '4.4'],\n",
    "    ['E010', 'Jack', 'Finance', '67000', '7', '4.2']\n",
    "])\n",
    "\n",
    "print(employees[employees[:,2]=='IT',1])"
   ]
  },
  {
   "cell_type": "code",
   "execution_count": null,
   "id": "c2b65867",
   "metadata": {},
   "outputs": [
    {
     "name": "stdout",
     "output_type": "stream",
     "text": [
      "Median_YOE: 6.0\n"
     ]
    }
   ],
   "source": [
    "#Find the median years of experience among the employees (Median-சராசரி)\n",
    "\n",
    "import numpy as np\n",
    "\n",
    "# Dataset: Employee ID, Name, Department, Salary, Years of Experience, Performance Rating\n",
    "employees = np.array([\n",
    "    ['E001', 'Alice', 'HR', '50000', '5', '4.2'],\n",
    "    ['E002', 'Bob', 'Finance', '60000', '6', '4.0'],\n",
    "    ['E003', 'Charlie', 'IT', '70000', '8', '4.5'],\n",
    "    ['E004', 'David', 'Marketing', '55000', '4', '3.9'],\n",
    "    ['E005', 'Eve', 'Finance', '65000', '7', '4.3'],\n",
    "    ['E006', 'Frank', 'IT', '75000', '9', '4.6'],\n",
    "    ['E007', 'Grace', 'HR', '48000', '3', '3.8'],\n",
    "    ['E008', 'Hank', 'Marketing', '52000', '5', '4.1'],\n",
    "    ['E009', 'Ivy', 'IT', '72000', '6', '4.4'],\n",
    "    ['E010', 'Jack', 'Finance', '67000', '7', '4.2']\n",
    "])\n",
    "\n",
    "Mad=employees[:,4].astype(int)\n",
    "print(\"Median_YOE:\",np.median(Mad))"
   ]
  },
  {
   "cell_type": "code",
   "execution_count": 2,
   "id": "eea567ad",
   "metadata": {},
   "outputs": [
    {
     "name": "stdout",
     "output_type": "stream",
     "text": [
      "Decending_order: ['9' '8' '7' '7' '6' '6' '5' '5' '4' '3']\n"
     ]
    }
   ],
   "source": [
    "#Sort the employees by their years of experience in descending order\n",
    "\n",
    "import numpy as np\n",
    "\n",
    "# Dataset: Employee ID, Name, Department, Salary, Years of Experience, Performance Rating\n",
    "employees = np.array([\n",
    "    ['E001', 'Alice', 'HR', '50000', '5', '4.2'],\n",
    "    ['E002', 'Bob', 'Finance', '60000', '6', '4.0'],\n",
    "    ['E003', 'Charlie', 'IT', '70000', '8', '4.5'],\n",
    "    ['E004', 'David', 'Marketing', '55000', '4', '3.9'],\n",
    "    ['E005', 'Eve', 'Finance', '65000', '7', '4.3'],\n",
    "    ['E006', 'Frank', 'IT', '75000', '9', '4.6'],\n",
    "    ['E007', 'Grace', 'HR', '48000', '3', '3.8'],\n",
    "    ['E008', 'Hank', 'Marketing', '52000', '5', '4.1'],\n",
    "    ['E009', 'Ivy', 'IT', '72000', '6', '4.4'],\n",
    "    ['E010', 'Jack', 'Finance', '67000', '7', '4.2']\n",
    "])\n",
    "\n",
    "Decend=employees[:,4].astype(float)\n",
    "print(\"Decending_order:\",employees[np.argsort(-Decend),4])"
   ]
  },
  {
   "cell_type": "code",
   "execution_count": 5,
   "id": "15e105b5",
   "metadata": {},
   "outputs": [
    {
     "name": "stdout",
     "output_type": "stream",
     "text": [
      "Finance_Dept: ['Bob' 'Eve' 'Jack']\n"
     ]
    }
   ],
   "source": [
    "#Find the total number of employees in the 'Finance' department\n",
    "\n",
    "import numpy as np\n",
    "\n",
    "# Dataset: Employee ID, Name, Department, Salary, Years of Experience, Performance Rating\n",
    "employees = np.array([\n",
    "    ['E001', 'Alice', 'HR', '50000', '5', '4.2'],\n",
    "    ['E002', 'Bob', 'Finance', '60000', '6', '4.0'],\n",
    "    ['E003', 'Charlie', 'IT', '70000', '8', '4.5'],\n",
    "    ['E004', 'David', 'Marketing', '55000', '4', '3.9'],\n",
    "    ['E005', 'Eve', 'Finance', '65000', '7', '4.3'],\n",
    "    ['E006', 'Frank', 'IT', '75000', '9', '4.6'],\n",
    "    ['E007', 'Grace', 'HR', '48000', '3', '3.8'],\n",
    "    ['E008', 'Hank', 'Marketing', '52000', '5', '4.1'],\n",
    "    ['E009', 'Ivy', 'IT', '72000', '6', '4.4'],\n",
    "    ['E010', 'Jack', 'Finance', '67000', '7', '4.2']\n",
    "])\n",
    "\n",
    "Finance=employees[employees[:,2]=='Finance',1]\n",
    "print(\"Finance_Dept:\",Finance)"
   ]
  },
  {
   "cell_type": "code",
   "execution_count": 6,
   "id": "b5b0b032",
   "metadata": {},
   "outputs": [
    {
     "name": "stdout",
     "output_type": "stream",
     "text": [
      "Variance_P.Rating: 0.06\n"
     ]
    }
   ],
   "source": [
    "#Calculate the variance in the performance ratings of the employees\n",
    "\n",
    "import numpy as np\n",
    "\n",
    "# Dataset: Employee ID, Name, Department, Salary, Years of Experience, Performance Rating\n",
    "employees = np.array([\n",
    "    ['E001', 'Alice', 'HR', '50000', '5', '4.2'],\n",
    "    ['E002', 'Bob', 'Finance', '60000', '6', '4.0'],\n",
    "    ['E003', 'Charlie', 'IT', '70000', '8', '4.5'],\n",
    "    ['E004', 'David', 'Marketing', '55000', '4', '3.9'],\n",
    "    ['E005', 'Eve', 'Finance', '65000', '7', '4.3'],\n",
    "    ['E006', 'Frank', 'IT', '75000', '9', '4.6'],\n",
    "    ['E007', 'Grace', 'HR', '48000', '3', '3.8'],\n",
    "    ['E008', 'Hank', 'Marketing', '52000', '5', '4.1'],\n",
    "    ['E009', 'Ivy', 'IT', '72000', '6', '4.4'],\n",
    "    ['E010', 'Jack', 'Finance', '67000', '7', '4.2']\n",
    "])\n",
    "\n",
    "Variance=employees[:,5].astype(float)\n",
    "print(\"Variance_P.Rating:\",np.var(Variance))"
   ]
  }
 ],
 "metadata": {
  "kernelspec": {
   "display_name": "Python 3",
   "language": "python",
   "name": "python3"
  },
  "language_info": {
   "codemirror_mode": {
    "name": "ipython",
    "version": 3
   },
   "file_extension": ".py",
   "mimetype": "text/x-python",
   "name": "python",
   "nbconvert_exporter": "python",
   "pygments_lexer": "ipython3",
   "version": "3.13.5"
  }
 },
 "nbformat": 4,
 "nbformat_minor": 5
}
