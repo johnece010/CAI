{
 "cells": [
  {
   "cell_type": "code",
   "execution_count": 1,
   "id": "d2a04d93",
   "metadata": {},
   "outputs": [
    {
     "name": "stdout",
     "output_type": "stream",
     "text": [
      "[1, 2, 3, 4, 5, 6, 7, 8]\n"
     ]
    }
   ],
   "source": [
    "import numpy as np\n",
    "\n",
    "list1=[1,2,3,4]\n",
    "list2=[5,6,7,8]\n",
    "print(list1+list2)"
   ]
  },
  {
   "cell_type": "code",
   "execution_count": 3,
   "id": "e2c83718",
   "metadata": {},
   "outputs": [
    {
     "name": "stdout",
     "output_type": "stream",
     "text": [
      "product_Name: Laptop Catagory: Electronics Price: 999.99 Quantity: 50 Rating: 4.5\n",
      "product_Name: Smartphone Catagory: Electronics Price: 799.99 Quantity: 200 Rating: 4.7\n",
      "product_Name: Tablet Catagory: Electronics Price: 299.99 Quantity: 150 Rating: 4.3\n",
      "product_Name: Headphones Catagory: Accessories Price: 99.99 Quantity: 300 Rating: 4.1\n",
      "product_Name: Smartwatch Catagory: Accessories Price: 199.99 Quantity: 100 Rating: 4.0\n",
      "product_Name: Camera Catagory: Electronics Price: 499.99 Quantity: 80 Rating: 4.6\n",
      "product_Name: Printer Catagory: Office Supplies Price: 150.00 Quantity: 75 Rating: 4.2\n",
      "product_Name: Desk Catagory: Furniture Price: 120.00 Quantity: 40 Rating: 4.4\n",
      "product_Name: Chair Catagory: Furniture Price: 85.00 Quantity: 120 Rating: 4.3\n",
      "product_Name: Lamp Catagory: Furniture Price: 45.00 Quantity: 200 Rating: 4.0\n"
     ]
    }
   ],
   "source": [
    "import numpy as np\n",
    "\n",
    "# Dataset: Product Name, Category, Price, Quantity, Rating\n",
    "products = np.array([\n",
    "    ['Laptop', 'Electronics', '999.99', '50', '4.5'],\n",
    "    ['Smartphone', 'Electronics', '799.99', '200', '4.7'],\n",
    "    ['Tablet', 'Electronics', '299.99', '150', '4.3'],\n",
    "    ['Headphones', 'Accessories', '99.99', '300', '4.1'],\n",
    "    ['Smartwatch', 'Accessories', '199.99', '100', '4.0'],\n",
    "    ['Camera', 'Electronics', '499.99', '80', '4.6'],\n",
    "    ['Printer', 'Office Supplies', '150.00', '75', '4.2'],\n",
    "    ['Desk', 'Furniture', '120.00', '40', '4.4'],\n",
    "    ['Chair', 'Furniture', '85.00', '120', '4.3'],\n",
    "    ['Lamp', 'Furniture', '45.00', '200', '4.0']\n",
    "])\n",
    "\n",
    "for product in products:\n",
    "\n",
    "    print(\"product_Name:\",product[0],\"Catagory:\",product[1],\"Price:\",product[2],\"Quantity:\",product[3],\"Rating:\",product[4])"
   ]
  },
  {
   "cell_type": "code",
   "execution_count": 6,
   "id": "af7e50c1",
   "metadata": {},
   "outputs": [
    {
     "name": "stdout",
     "output_type": "stream",
     "text": [
      "prices as float: [999.99 799.99 299.99  99.99 199.99 499.99 150.   120.    85.    45.  ]\n"
     ]
    }
   ],
   "source": [
    "import numpy as np\n",
    "\n",
    "# Dataset: Product Name, Category, Price, Quantity, Rating\n",
    "products = np.array([\n",
    "    ['Laptop', 'Electronics', '999.99', '50', '4.5'],\n",
    "    ['Smartphone', 'Electronics', '799.99', '200', '4.7'],\n",
    "    ['Tablet', 'Electronics', '299.99', '150', '4.3'],\n",
    "    ['Headphones', 'Accessories', '99.99', '300', '4.1'],\n",
    "    ['Smartwatch', 'Accessories', '199.99', '100', '4.0'],\n",
    "    ['Camera', 'Electronics', '499.99', '80', '4.6'],\n",
    "    ['Printer', 'Office Supplies', '150.00', '75', '4.2'],\n",
    "    ['Desk', 'Furniture', '120.00', '40', '4.4'],\n",
    "    ['Chair', 'Furniture', '85.00', '120', '4.3'],\n",
    "    ['Lamp', 'Furniture', '45.00', '200', '4.0']\n",
    "])\n",
    "\n",
    "prices=products[:,2].astype(float)\n",
    "\n",
    "print(\"prices as float:\",prices)"
   ]
  },
  {
   "cell_type": "code",
   "execution_count": 1,
   "id": "9defe260",
   "metadata": {},
   "outputs": [
    {
     "name": "stdout",
     "output_type": "stream",
     "text": [
      "prices as float: [999.99 799.99 299.99  99.99 199.99 499.99 150.   120.    85.    45.  ]\n",
      "Avg_price: 329.994\n",
      "Hightest_Price: 999.99\n"
     ]
    }
   ],
   "source": [
    "import numpy as np\n",
    "\n",
    "# Dataset: Product Name, Category, Price, Quantity, Rating\n",
    "products = np.array([\n",
    "    ['Laptop', 'Electronics', '999.99', '50', '4.5'],\n",
    "    ['Smartphone', 'Electronics', '799.99', '200', '4.7'],\n",
    "    ['Tablet', 'Electronics', '299.99', '150', '4.3'],\n",
    "    ['Headphones', 'Accessories', '99.99', '300', '4.1'],\n",
    "    ['Smartwatch', 'Accessories', '199.99', '100', '4.0'],\n",
    "    ['Camera', 'Electronics', '499.99', '80', '4.6'],\n",
    "    ['Printer', 'Office Supplies', '150.00', '75', '4.2'],\n",
    "    ['Desk', 'Furniture', '120.00', '40', '4.4'],\n",
    "    ['Chair', 'Furniture', '85.00', '120', '4.3'],\n",
    "    ['Lamp', 'Furniture', '45.00', '200', '4.0']\n",
    "])\n",
    "\n",
    "prices=products[:,2].astype(float)\n",
    "\n",
    "avg_price=np.mean(prices)\n",
    "\n",
    "highest_price=np.max(prices)\n",
    "\n",
    "print(\"prices as float:\",prices)\n",
    "\n",
    "print(\"Avg_price:\",avg_price)\n",
    "\n",
    "print(\"Hightest_Price:\",highest_price)"
   ]
  },
  {
   "cell_type": "code",
   "execution_count": 1,
   "id": "8988b2eb",
   "metadata": {},
   "outputs": [
    {
     "name": "stdout",
     "output_type": "stream",
     "text": [
      "Total number of products in stock: 1315.0\n"
     ]
    }
   ],
   "source": [
    "import numpy as np\n",
    "\n",
    "# Dataset: Product Name, Category, Price, Quantity, Rating\n",
    "products = np.array([\n",
    "    ['Laptop', 'Electronics', '999.99', '50', '4.5'],\n",
    "    ['Smartphone', 'Electronics', '799.99', '200', '4.7'],\n",
    "    ['Tablet', 'Electronics', '299.99', '150', '4.3'],\n",
    "    ['Headphones', 'Accessories', '99.99', '300', '4.1'],\n",
    "    ['Smartwatch', 'Accessories', '199.99', '100', '4.0'],\n",
    "    ['Camera', 'Electronics', '499.99', '80', '4.6'],\n",
    "    ['Printer', 'Office Supplies', '150.00', '75', '4.2'],\n",
    "    ['Desk', 'Furniture', '120.00', '40', '4.4'],\n",
    "    ['Chair', 'Furniture', '85.00', '120', '4.3'],\n",
    "    ['Lamp', 'Furniture', '45.00', '200', '4.0']\n",
    "])\n",
    "\n",
    "quantities=products[:,3].astype(float)\n",
    "\n",
    "total_stock = np.sum(quantities)\n",
    "\n",
    "print(\"Total number of products in stock:\", total_stock)"
   ]
  },
  {
   "cell_type": "code",
   "execution_count": 6,
   "id": "e83bd390",
   "metadata": {},
   "outputs": [
    {
     "name": "stdout",
     "output_type": "stream",
     "text": [
      "Total number of products in stock: 7\n"
     ]
    }
   ],
   "source": [
    "import numpy as np\n",
    "\n",
    "# Dataset: Product Name, Category, Price, Quantity, Rating\n",
    "products = np.array([\n",
    "    ['Laptop', 'Electronics', '999.99', '50', '4.5'],\n",
    "    ['Smartphone', 'Electronics', '799.99', '200', '4.7'],\n",
    "    ['Tablet', 'Electronics', '299.99', '150', '4.3'],\n",
    "    ['Headphones', 'Accessories', '99.99', '300', '4.1'],\n",
    "    ['Smartwatch', 'Accessories', '199.99', '100', '4.0'],\n",
    "    ['Camera', 'Electronics', '499.99', '80', '4.6'],\n",
    "    ['Printer', 'Office Supplies', '150.00', '75', '4.2'],\n",
    "    ['Desk', 'Furniture', '120.00', '40', '4.4'],\n",
    "    ['Chair', 'Furniture', '85.00', '120', '4.3'],\n",
    "    ['Lamp', 'Furniture', '45.00', '200', '4.0']\n",
    "])\n",
    "\n",
    "above_price=products[:,2].astype(float)\n",
    "\n",
    "count_above_price=np.sum(above_price>100)\n",
    "\n",
    "print(\"Total number of products in stock:\",count_above_price )"
   ]
  },
  {
   "cell_type": "code",
   "execution_count": 1,
   "id": "a9a67222",
   "metadata": {},
   "outputs": [
    {
     "name": "stdout",
     "output_type": "stream",
     "text": [
      "Asending: [4.  4.  4.1 4.2 4.3 4.3 4.4 4.5 4.6 4.7]\n"
     ]
    }
   ],
   "source": [
    "import numpy as np\n",
    "\n",
    "# Dataset: Product Name, Category, Price, Quantity, Rating\n",
    "products = np.array([\n",
    "    ['Laptop', 'Electronics', '999.99', '50', '4.5'],\n",
    "    ['Smartphone', 'Electronics', '799.99', '200', '4.7'],\n",
    "    ['Tablet', 'Electronics', '299.99', '150', '4.3'],\n",
    "    ['Headphones', 'Accessories', '99.99', '300', '4.1'],\n",
    "    ['Smartwatch', 'Accessories', '199.99', '100', '4.0'],\n",
    "    ['Camera', 'Electronics', '499.99', '80', '4.6'],\n",
    "    ['Printer', 'Office Supplies', '150.00', '75', '4.2'],\n",
    "    ['Desk', 'Furniture', '120.00', '40', '4.4'],\n",
    "    ['Chair', 'Furniture', '85.00', '120', '4.3'],\n",
    "    ['Lamp', 'Furniture', '45.00', '200', '4.0']\n",
    "])\n",
    "\n",
    "high_to_low=products[:,4].astype(float)\n",
    "\n",
    "Low_to_high=np.sort(high_to_low)\n",
    "\n",
    "print(\"Asending:\",Low_to_high)"
   ]
  },
  {
   "cell_type": "code",
   "execution_count": 4,
   "id": "09704729",
   "metadata": {},
   "outputs": [
    {
     "name": "stdout",
     "output_type": "stream",
     "text": [
      "Electronics_product; ['Laptop' 'Smartphone' 'Tablet' 'Camera']\n"
     ]
    }
   ],
   "source": [
    "import numpy as np\n",
    "\n",
    "# Dataset: Product Name, Category, Price, Quantity, Rating\n",
    "products = np.array([\n",
    "    ['Laptop', 'Electronics', '999.99', '50', '4.5'],\n",
    "    ['Smartphone', 'Electronics', '799.99', '200', '4.7'],\n",
    "    ['Tablet', 'Electronics', '299.99', '150', '4.3'],\n",
    "    ['Headphones', 'Accessories', '99.99', '300', '4.1'],\n",
    "    ['Smartwatch', 'Accessories', '199.99', '100', '4.0'],\n",
    "    ['Camera', 'Electronics', '499.99', '80', '4.6'],\n",
    "    ['Printer', 'Office Supplies', '150.00', '75', '4.2'],\n",
    "    ['Desk', 'Furniture', '120.00', '40', '4.4'],\n",
    "    ['Chair', 'Furniture', '85.00', '120', '4.3'],\n",
    "    ['Lamp', 'Furniture', '45.00', '200', '4.0']\n",
    "])\n",
    "\n",
    "product_electronics=products[products[:,1]=='Electronics',0]\n",
    "\n",
    "print(\"Electronics_product;\",product_electronics)"
   ]
  },
  {
   "cell_type": "code",
   "execution_count": 3,
   "id": "9d8047a6",
   "metadata": {},
   "outputs": [
    {
     "name": "stdout",
     "output_type": "stream",
     "text": [
      "Furniture_products; ['Desk' 'Chair' 'Lamp']\n"
     ]
    }
   ],
   "source": [
    "import numpy as np\n",
    "\n",
    "# Dataset: Product Name, Category, Price, Quantity, Rating\n",
    "products = np.array([\n",
    "    ['Laptop', 'Electronics', '999.99', '50', '4.5'],\n",
    "    ['Smartphone', 'Electronics', '799.99', '200', '4.7'],\n",
    "    ['Tablet', 'Electronics', '299.99', '150', '4.3'],\n",
    "    ['Headphones', 'Accessories', '99.99', '300', '4.1'],\n",
    "    ['Smartwatch', 'Accessories', '199.99', '100', '4.0'],\n",
    "    ['Camera', 'Electronics', '499.99', '80', '4.6'],\n",
    "    ['Printer', 'Office Supplies', '150.00', '75', '4.2'],\n",
    "    ['Desk', 'Furniture', '120.00', '40', '4.4'],\n",
    "    ['Chair', 'Furniture', '85.00', '120', '4.3'],\n",
    "    ['Lamp', 'Furniture', '45.00', '200', '4.0']\n",
    "])\n",
    "\n",
    "product_Furniture=products[products[:,1]=='Furniture',0]\n",
    "\n",
    "print(\"Furniture_products;\",product_Furniture)\n"
   ]
  }
 ],
 "metadata": {
  "kernelspec": {
   "display_name": "Python 3",
   "language": "python",
   "name": "python3"
  },
  "language_info": {
   "codemirror_mode": {
    "name": "ipython",
    "version": 3
   },
   "file_extension": ".py",
   "mimetype": "text/x-python",
   "name": "python",
   "nbconvert_exporter": "python",
   "pygments_lexer": "ipython3",
   "version": "3.13.5"
  }
 },
 "nbformat": 4,
 "nbformat_minor": 5
}
