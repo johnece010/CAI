{
 "cells": [
  {
   "cell_type": "code",
   "execution_count": 1,
   "id": "01161355",
   "metadata": {},
   "outputs": [
    {
     "name": "stdout",
     "output_type": "stream",
     "text": [
      "Requirement already satisfied: pip in c:\\users\\johnson\\.conda\\envs\\ds\\lib\\site-packages (25.2)\n",
      "Note: you may need to restart the kernel to use updated packages.\n"
     ]
    }
   ],
   "source": [
    "%pip install --upgrade pip\n"
   ]
  },
  {
   "cell_type": "code",
   "execution_count": 2,
   "id": "ed07dacc",
   "metadata": {},
   "outputs": [
    {
     "name": "stdout",
     "output_type": "stream",
     "text": [
      "Requirement already satisfied: opencv-python in c:\\users\\johnson\\appdata\\roaming\\python\\python313\\site-packages (4.12.0.88)\n",
      "Requirement already satisfied: numpy<2.3.0,>=2 in c:\\users\\johnson\\appdata\\roaming\\python\\python313\\site-packages (from opencv-python) (2.2.6)\n",
      "Note: you may need to restart the kernel to use updated packages.\n"
     ]
    }
   ],
   "source": [
    "%pip install opencv-python"
   ]
  },
  {
   "cell_type": "code",
   "execution_count": 3,
   "id": "eed0cc38",
   "metadata": {},
   "outputs": [
    {
     "name": "stdout",
     "output_type": "stream",
     "text": [
      "Requirement already satisfied: opencv-contrib-python in c:\\users\\johnson\\.conda\\envs\\ds\\lib\\site-packages (4.12.0.88)\n",
      "Requirement already satisfied: numpy<2.3.0,>=2 in c:\\users\\johnson\\appdata\\roaming\\python\\python313\\site-packages (from opencv-contrib-python) (2.2.6)\n",
      "Note: you may need to restart the kernel to use updated packages.\n"
     ]
    }
   ],
   "source": [
    "%pip install opencv-contrib-python"
   ]
  },
  {
   "cell_type": "code",
   "execution_count": 1,
   "id": "f5f7243a",
   "metadata": {},
   "outputs": [],
   "source": [
    "\n",
    "import cv2"
   ]
  },
  {
   "cell_type": "markdown",
   "id": "eb32c917",
   "metadata": {},
   "source": [
    "\n",
    "<span style=\"color:red; font-size:30px;\">Image_processing</span>\n"
   ]
  },
  {
   "cell_type": "code",
   "execution_count": 2,
   "id": "57381123",
   "metadata": {},
   "outputs": [],
   "source": [
    "# GausianBlurred image\n",
    "\n",
    "import cv2\n",
    "img=cv2.imread(\"data/panda.jpg\")\n",
    "blurred=cv2.GaussianBlur(img,(5,5),0)\n",
    "cv2.imshow(\"original\",img)\n",
    "cv2.imshow(\"Gaussian_Blurred\",blurred)\n",
    "cv2.waitKey(0)\n",
    "cv2.destroyAllWindows()\n"
   ]
  },
  {
   "cell_type": "code",
   "execution_count": 3,
   "id": "a108f5a7",
   "metadata": {},
   "outputs": [],
   "source": [
    "# blur image\n",
    "\n",
    "blur=cv2.blur(img,(5,5))   #ithula rendume kernel size than athavathu window size\n",
    "cv2.imshow(\"Original\",img)\n",
    "cv2.imshow(\"Blur\",blur)\n",
    "cv2.waitKey()\n",
    "cv2.destroyAllWindows()"
   ]
  },
  {
   "cell_type": "code",
   "execution_count": null,
   "id": "4bc3b4c1",
   "metadata": {},
   "outputs": [],
   "source": [
    "# median_blur Image\n",
    "\n",
    "import cv2\n",
    "img=cv2.imread(\"data/panda.jpg\")\n",
    "blurred=cv2.medianBlur(img,5)  #img-input image, 5-kernel_size\n",
    "cv2.imshow(\"original\",img)\n",
    "cv2.imshow(\"Gaussian_Blurred\",blurred)\n",
    "cv2.waitKey(0)\n",
    "cv2.destroyAllWindows()\n"
   ]
  },
  {
   "cell_type": "code",
   "execution_count": 3,
   "id": "a8079cee",
   "metadata": {},
   "outputs": [],
   "source": [
    "#Bilateral Image\n",
    "\n",
    "bilateral=cv2.bilateralFilter(img,9,75,75) #9-Diameter,75-sigma_color,75-sigma_space \n",
    "\n",
    "cv2.imshow(\"original\",img)\n",
    "cv2.imshow(\"Bilateral\",bilateral)\n",
    "cv2.waitKey(0)\n",
    "cv2.destroyAllWindows()"
   ]
  },
  {
   "cell_type": "code",
   "execution_count": 4,
   "id": "9df7e2c7",
   "metadata": {},
   "outputs": [],
   "source": [
    "# Color_Convert_to_Gray_Color\n",
    "\n",
    "gray=cv2.cvtColor(img,cv2.COLOR_BGR2GRAY)\n",
    "cv2.imshow(\"Original\",img)\n",
    "cv2.imshow(\"Gray_color\",gray)\n",
    "cv2.waitKey()\n",
    "cv2.destroyAllWindows()"
   ]
  },
  {
   "cell_type": "code",
   "execution_count": 5,
   "id": "f8ea64df",
   "metadata": {},
   "outputs": [],
   "source": [
    "# Size_changed_the_Image\n",
    "\n",
    "small=cv2.resize(img,(200,200))\n",
    "cv2.imshow(\"Original\",img)\n",
    "cv2.imshow(\"Resize\",small)\n",
    "cv2.waitKey()\n",
    "cv2.destroyAllWindows()"
   ]
  },
  {
   "cell_type": "code",
   "execution_count": 6,
   "id": "c4ecc010",
   "metadata": {},
   "outputs": [],
   "source": [
    "# Flip_Horizondal_Image\n",
    "\n",
    "flip_hzl = cv2.flip(img, 1)\n",
    "cv2.imshow(\"Original\",img)\n",
    "cv2.imshow(\"Flip_Horizondal\",flip_hzl)\n",
    "cv2.waitKey()\n",
    "cv2.destroyAllWindows()"
   ]
  },
  {
   "cell_type": "code",
   "execution_count": 7,
   "id": "09fd07c7",
   "metadata": {},
   "outputs": [],
   "source": [
    "# Flip_Vertical_Image\n",
    "\n",
    "flip_vtl=cv2.flip(img,0)\n",
    "cv2.imshow(\"Original\",img)\n",
    "cv2.imshow(\"Flip_Vertical\",flip_vtl)\n",
    "cv2.waitKey()\n",
    "cv2.destroyAllWindows()\n"
   ]
  },
  {
   "cell_type": "code",
   "execution_count": 8,
   "id": "d7102a5f",
   "metadata": {},
   "outputs": [],
   "source": [
    "# Rotate_Image\n",
    "\n",
    "Rotated=cv2.rotate(img,cv2.ROTATE_90_CLOCKWISE)\n",
    "cv2.imshow(\"Original\",img)\n",
    "cv2.imshow(\"Rotated_Image\",Rotated)\n",
    "cv2.waitKey()\n",
    "cv2.destroyAllWindows()"
   ]
  },
  {
   "cell_type": "code",
   "execution_count": 9,
   "id": "cbbeeae3",
   "metadata": {},
   "outputs": [
    {
     "name": "stdout",
     "output_type": "stream",
     "text": [
      "Threshold value 127.0\n"
     ]
    }
   ],
   "source": [
    "# Thresholding_Image\n",
    "\n",
    "_,Threshold=cv2.threshold(gray, 127, 255, cv2.THRESH_BINARY)\n",
    "cv2.imshow(\"Original\",img)\n",
    "cv2.imshow(\"Threshold_Image\",Threshold)\n",
    "cv2.imshow(\"Gray\", gray)\n",
    "cv2.waitKey()\n",
    "cv2.destroyAllWindows()\n",
    "\n",
    "\n",
    "print(\"Threshold value\" , _)"
   ]
  },
  {
   "cell_type": "code",
   "execution_count": 10,
   "id": "614ead51",
   "metadata": {},
   "outputs": [],
   "source": [
    "#Filtering edge\n",
    "\n",
    "edge=cv2.Canny(img,100,200)\n",
    "cv2.imshow(\"Original\",img)\n",
    "cv2.imshow(\"Filterin_Edge\",edge)\n",
    "cv2.waitKey()\n",
    "cv2.destroyAllWindows()"
   ]
  },
  {
   "cell_type": "code",
   "execution_count": 11,
   "id": "96eefc13",
   "metadata": {},
   "outputs": [],
   "source": [
    "#sobelx image\n",
    "\n",
    "sobelx=cv2.Sobel(img,cv2.CV_64F,1,0, ksize=5)\n",
    "\n",
    "cv2.imshow(\"Original\",img)\n",
    "cv2.imshow(\"Sobelx\",sobelx)\n",
    "cv2.waitKey()\n",
    "cv2.destroyAllWindows()"
   ]
  },
  {
   "cell_type": "code",
   "execution_count": 12,
   "id": "178ee007",
   "metadata": {},
   "outputs": [],
   "source": [
    "#sobely image\n",
    "\n",
    "sobely=cv2.Sobel(img,cv2.CV_64F,0,1, ksize=5)\n",
    "\n",
    "cv2.imshow(\"Original\",img)\n",
    "cv2.imshow(\"Sobely\",sobely)\n",
    "cv2.waitKey()\n",
    "cv2.destroyAllWindows()"
   ]
  },
  {
   "cell_type": "code",
   "execution_count": 13,
   "id": "f0988415",
   "metadata": {},
   "outputs": [],
   "source": [
    "#Laplacian image\n",
    "\n",
    "laplacian = cv2.Laplacian(img, cv2.CV_64F)\n",
    "\n",
    "cv2.imshow(\"Original\",img)\n",
    "cv2.imshow(\"Laplacian\",laplacian)\n",
    "cv2.waitKey()\n",
    "cv2.destroyAllWindows()"
   ]
  },
  {
   "cell_type": "code",
   "execution_count": 16,
   "id": "e87f9a78",
   "metadata": {},
   "outputs": [],
   "source": [
    "#Erosion image\n",
    "\n",
    "eroded = cv2.erode(img, None, iterations=2)\n",
    "\n",
    "cv2.imshow(\"Original\",img)\n",
    "cv2.imshow(\"Erosion\",eroded)\n",
    "cv2.waitKey()\n",
    "cv2.destroyAllWindows()"
   ]
  },
  {
   "cell_type": "code",
   "execution_count": 1,
   "id": "2dd384de",
   "metadata": {},
   "outputs": [
    {
     "ename": "NameError",
     "evalue": "name 'cv2' is not defined",
     "output_type": "error",
     "traceback": [
      "\u001b[31m---------------------------------------------------------------------------\u001b[39m",
      "\u001b[31mNameError\u001b[39m                                 Traceback (most recent call last)",
      "\u001b[36mCell\u001b[39m\u001b[36m \u001b[39m\u001b[32mIn[1]\u001b[39m\u001b[32m, line 3\u001b[39m\n\u001b[32m      1\u001b[39m \u001b[38;5;66;03m#Dilated image\u001b[39;00m\n\u001b[32m----> \u001b[39m\u001b[32m3\u001b[39m dilated = \u001b[43mcv2\u001b[49m.dilate(img, \u001b[38;5;28;01mNone\u001b[39;00m, iterations=\u001b[32m2\u001b[39m)\n\u001b[32m      5\u001b[39m cv2.imshow(\u001b[33m\"\u001b[39m\u001b[33mOriginal\u001b[39m\u001b[33m\"\u001b[39m,img)\n\u001b[32m      6\u001b[39m cv2.imshow(\u001b[33m\"\u001b[39m\u001b[33mDilated\u001b[39m\u001b[33m\"\u001b[39m,dilated)\n",
      "\u001b[31mNameError\u001b[39m: name 'cv2' is not defined"
     ]
    }
   ],
   "source": [
    "#Dilated image\n",
    "\n",
    "dilated = cv2.dilate(img, None, iterations=2)\n",
    "\n",
    "cv2.imshow(\"Original\",img)\n",
    "cv2.imshow(\"Dilated\",dilated)\n",
    "cv2.waitKey()\n",
    "cv2.destroyAllWindows()"
   ]
  },
  {
   "cell_type": "markdown",
   "id": "5736f5a9",
   "metadata": {},
   "source": [
    "<span style= \"color:red; font-size:30px;\">Drawing Counter</span>"
   ]
  },
  {
   "cell_type": "code",
   "execution_count": 27,
   "id": "59924718",
   "metadata": {},
   "outputs": [],
   "source": [
    "import cv2\n",
    "import numpy as np\n"
   ]
  },
  {
   "cell_type": "code",
   "execution_count": 30,
   "id": "dd4adad8",
   "metadata": {},
   "outputs": [],
   "source": [
    "# canvas image\n",
    "\n",
    "canvas=np.zeros((400,400,3),dtype='uint8')\n",
    "cv2.line(canvas, (50,50), (350,50), (255,0,0), 2)\n",
    "cv2.rectangle(canvas, (50,100), (200,200), (0,255,0), 2)\n",
    "cv2.circle(canvas, (300,300), 50, (0,0,255), -1)\n",
    "cv2.ellipse(canvas, (200,300), (80,40), 0, 0, 360, (255,255,0), 2)\n",
    "cv2.putText(canvas, 'OpenCV', (100,380), cv2.FONT_HERSHEY_SIMPLEX, 1, (255,255,255), 2)\n",
    "\n",
    "cv2.imshow(\"Canvas_Image\",canvas)\n",
    "cv2.waitKey()\n",
    "cv2.destroyAllWindows()"
   ]
  }
 ],
 "metadata": {
  "kernelspec": {
   "display_name": "ds",
   "language": "python",
   "name": "python3"
  },
  "language_info": {
   "codemirror_mode": {
    "name": "ipython",
    "version": 3
   },
   "file_extension": ".py",
   "mimetype": "text/x-python",
   "name": "python",
   "nbconvert_exporter": "python",
   "pygments_lexer": "ipython3",
   "version": "3.13.5"
  }
 },
 "nbformat": 4,
 "nbformat_minor": 5
}
