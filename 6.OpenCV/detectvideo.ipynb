{
 "cells": [
  {
   "cell_type": "code",
   "execution_count": null,
   "id": "5387ef79",
   "metadata": {},
   "outputs": [
    {
     "name": "stdout",
     "output_type": "stream",
     "text": [
      "Error Reading video\n"
     ]
    },
    {
     "ename": "error",
     "evalue": "OpenCV(4.12.0) D:\\a\\opencv-python\\opencv-python\\opencv\\modules\\imgproc\\src\\color.cpp:199: error: (-215:Assertion failed) !_src.empty() in function 'cv::cvtColor'\n",
     "output_type": "error",
     "traceback": [
      "\u001b[31m---------------------------------------------------------------------------\u001b[39m",
      "\u001b[31merror\u001b[39m                                     Traceback (most recent call last)",
      "\u001b[36mCell\u001b[39m\u001b[36m \u001b[39m\u001b[32mIn[2]\u001b[39m\u001b[32m, line 17\u001b[39m\n\u001b[32m     15\u001b[39m \u001b[38;5;28;01mwhile\u001b[39;00m \u001b[38;5;28;01mTrue\u001b[39;00m:\n\u001b[32m     16\u001b[39m     ret,frame = cap.read()\n\u001b[32m---> \u001b[39m\u001b[32m17\u001b[39m     gray = \u001b[43mcv2\u001b[49m\u001b[43m.\u001b[49m\u001b[43mcvtColor\u001b[49m\u001b[43m(\u001b[49m\u001b[43mframe\u001b[49m\u001b[43m,\u001b[49m\u001b[43mcv2\u001b[49m\u001b[43m.\u001b[49m\u001b[43mCOLOR_BGR2RGB\u001b[49m\u001b[43m)\u001b[49m\n\u001b[32m     18\u001b[39m     car_plates = carPlatesCascade.detectMultiScale(gray,scaleFactor=\u001b[32m1.2\u001b[39m,\n\u001b[32m     19\u001b[39m     minNeighbors = \u001b[32m5\u001b[39m, minSize=(\u001b[32m25\u001b[39m,\u001b[32m25\u001b[39m))\n\u001b[32m     21\u001b[39m     \u001b[38;5;28;01mfor\u001b[39;00m (x,y,w,h) \u001b[38;5;129;01min\u001b[39;00m car_plates:\n",
      "\u001b[31merror\u001b[39m: OpenCV(4.12.0) D:\\a\\opencv-python\\opencv-python\\opencv\\modules\\imgproc\\src\\color.cpp:199: error: (-215:Assertion failed) !_src.empty() in function 'cv::cvtColor'\n"
     ]
    }
   ],
   "source": [
    "import cv2\n",
    "import numpy as np\n",
    "\n",
    "carPlatesCascade = cv2.CascadeClassifier('haarcascades/haarcascade_russian_plate_number.xml')\n",
    "\n",
    "cap = cv2.VideoCapture('carVideo.mp4')\n",
    "\n",
    "cap.set(cv2.CAP_PROP_FRAME_WIDTH, 320)\n",
    "cap.set(cv2.CAP_PROP_FRAME_HEIGHT, 80)\n",
    "\n",
    "\n",
    "if (cap.isOpened()==False):\n",
    "    print('Error Reading video')\n",
    "\n",
    "while True:\n",
    "    ret,frame = cap.read()\n",
    "    gray = cv2.cvtColor(frame,cv2.COLOR_BGR2GRAY)\n",
    "    car_plates = carPlatesCascade.detectMultiScale(gray,scaleFactor=1.2,\n",
    "    minNeighbors = 5, minSize=(25,25))\n",
    "\n",
    "    for (x,y,w,h) in car_plates:\n",
    "        cv2.rectangle(frame,(x,y),(x+w,y+h),(255,0,0),2)\n",
    "        plate = frame[y: y+h, x:x+w]\n",
    "        plate = cv2.blur(plate,ksize=(20,20))\n",
    "        # put the blurred plate into the original image\n",
    "        frame[y: y+h, x:x+w,2] = plate\n",
    "\n",
    "    if ret == True:\n",
    "        cv2.imshow('Video',frame)\n",
    "    \n",
    "        if cv2.waitKey(0) & 0xFF == ord('q'):\n",
    "            break\n",
    "    \n",
    "    else:\n",
    "        break\n",
    "\n",
    "cap.release()\n",
    "cv2.destroyAllWindows()\n"
   ]
  }
 ],
 "metadata": {
  "kernelspec": {
   "display_name": "ds",
   "language": "python",
   "name": "python3"
  },
  "language_info": {
   "codemirror_mode": {
    "name": "ipython",
    "version": 3
   },
   "file_extension": ".py",
   "mimetype": "text/x-python",
   "name": "python",
   "nbconvert_exporter": "python",
   "pygments_lexer": "ipython3",
   "version": "3.13.5"
  }
 },
 "nbformat": 4,
 "nbformat_minor": 5
}
